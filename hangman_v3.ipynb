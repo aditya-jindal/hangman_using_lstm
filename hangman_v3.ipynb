{
  "nbformat": 4,
  "nbformat_minor": 0,
  "metadata": {
    "colab": {
      "provenance": [],
      "gpuType": "T4"
    },
    "kernelspec": {
      "name": "python3",
      "display_name": "Python 3"
    },
    "language_info": {
      "name": "python"
    },
    "accelerator": "GPU"
  },
  "cells": [
    {
      "cell_type": "markdown",
      "source": [
        "#**Lets Play Hangman**"
      ],
      "metadata": {
        "id": "IXp9Ro9dkGeg"
      }
    },
    {
      "cell_type": "markdown",
      "source": [
        "#Importing dependencies"
      ],
      "metadata": {
        "id": "FhuHmKDPtUK0"
      }
    },
    {
      "cell_type": "code",
      "execution_count": 34,
      "metadata": {
        "id": "CCOyFarzrEny"
      },
      "outputs": [],
      "source": [
        "import numpy as np\n",
        "import tensorflow as tf\n",
        "import os\n",
        "import random\n",
        "import matplotlib.pyplot as plt"
      ]
    },
    {
      "cell_type": "markdown",
      "source": [
        "The vocabulary:-"
      ],
      "metadata": {
        "id": "Bb7WzzKhthSH"
      }
    },
    {
      "cell_type": "code",
      "source": [
        "vocab = np.array(list(\" abcdefghijklmnopqrstuvwxyz_\")) #here just for reference, used much later not now"
      ],
      "metadata": {
        "id": "Mj0YFGZicTUF"
      },
      "execution_count": null,
      "outputs": []
    },
    {
      "cell_type": "markdown",
      "source": [
        "#Data Preprocessing"
      ],
      "metadata": {
        "id": "UfvNMQbKtm7N"
      }
    },
    {
      "cell_type": "code",
      "source": [
        "def encode_word(word):\n",
        "    \"\"\"\n",
        "    Encodes a word into a sequence of integers representing its letters' positions in the alphabet.\n",
        "\n",
        "    Parameters:\n",
        "    - word (str): The word to be encoded.\n",
        "\n",
        "    Returns:\n",
        "    - encoded_word (numpy.ndarray): An array of integers representing the positions of letters in the alphabet.\n",
        "\n",
        "    Example:\n",
        "    >>> encode_word('hello')\n",
        "    array([ 8,  5, 12, 12, 15])\n",
        "    \"\"\"\n",
        "    word = word.lower()\n",
        "    encoded_word = np.frombuffer(word.encode('utf-8'), dtype=np.uint8)\n",
        "    encoded_word = encoded_word.copy()\n",
        "    encoded_word -= ord('a')\n",
        "    encoded_word += 1\n",
        "\n",
        "    return encoded_word.astype(int)"
      ],
      "metadata": {
        "id": "yAZ3kW4hcUqV"
      },
      "execution_count": 6,
      "outputs": []
    },
    {
      "cell_type": "code",
      "source": [
        "def mask_word(word, intensity):\n",
        "    \"\"\"\n",
        "    Masks a word by replacing a certain number of its letters with a special token.\n",
        "\n",
        "    Parameters:\n",
        "    - word (numpy.ndarray): An array representing the word to be masked.\n",
        "    - intensity (int): The number of letters to be masked in the word.\n",
        "\n",
        "    Returns:\n",
        "    - masked_word (numpy.ndarray): An array representing the masked word with certain letters replaced by a special token.\n",
        "    - true_labels (numpy.ndarray): An array representing the true labels of the masked letters in one-hot encoded format.\n",
        "\n",
        "    Example:\n",
        "    >>> mask_word(np.array(['h', 'e', 'l', 'l', 'o']), 2)\n",
        "    (array([27, 27, 12, 12, 15]), array([0, 1, 0, 0, 0, 0, 0, 0, 0, 0, 0, 0, 0, 0, 0, 0, 0, 0, 0, 0, 0, 0, 0, 0, 0, 0]))\n",
        "    \"\"\"\n",
        "    word_copy = word.copy()\n",
        "    letters_to_mask = np.random.choice(np.unique(word_copy), size=intensity, replace=False)\n",
        "    pos = np.where(np.isin(word_copy, letters_to_mask))\n",
        "    word_copy[pos] = 27\n",
        "    true_labels = np.zeros((26,)).astype(int)\n",
        "    true_labels[word[pos]-1] = 1\n",
        "\n",
        "    return word_copy, true_labels"
      ],
      "metadata": {
        "id": "rj6Gqm7CcV3x"
      },
      "execution_count": 7,
      "outputs": []
    },
    {
      "cell_type": "code",
      "source": [
        "def pad_word(word, max_len):\n",
        "    \"\"\"\n",
        "    Pads a word with zero padding to match a specified maximum length.\n",
        "\n",
        "    Parameters:\n",
        "    - word (numpy.ndarray): An array representing the word to be padded.\n",
        "    - max_len (int): The maximum length of the padded word.\n",
        "\n",
        "    Returns:\n",
        "    - padded_word (numpy.ndarray): An array representing the padded word with zero padding added to match the maximum length.\n",
        "\n",
        "    Example:\n",
        "    >>> pad_word(np.array([8, 5, 12]), 7)\n",
        "    array([ 8,  5, 12,  0,  0,  0,  0])\n",
        "    \"\"\"\n",
        "    zero_padding = np.zeros((max_len - len(word)))\n",
        "    padded_word = np.concatenate((word, zero_padding))\n",
        "\n",
        "    return padded_word.astype(int)"
      ],
      "metadata": {
        "id": "rlvug7RLcXOj"
      },
      "execution_count": 8,
      "outputs": []
    },
    {
      "cell_type": "code",
      "source": [
        "def generate_previously_guessed_letters(word, masked_word):\n",
        "    \"\"\"\n",
        "    Generates a binary array indicating which letters have been previously guessed.\n",
        "\n",
        "    Parameters:\n",
        "    - word (numpy.ndarray): An array representing the original word.\n",
        "    - masked_word (numpy.ndarray): An array representing the masked word with certain letters replaced by a special token.\n",
        "\n",
        "    Returns:\n",
        "    - previously_guessed_letters (numpy.ndarray): A binary array indicating which letters have been previously guessed (1 for guessed, 0 for not guessed).\n",
        "\n",
        "    Example:\n",
        "    >>> generate_previously_guessed_letters(np.array([8, 5, 12]), np.array([27, 27, 12]))\n",
        "    array([0, 0, 0, 0, 0, 0, 0, 0, 1, 0, 0, 1, 0, 0, 0, 0, 0, 0, 0, 0, 0, 0, 0, 0, 0, 0])\n",
        "    \"\"\"\n",
        "    unique_characters = len(set(word))\n",
        "    n = 26 - unique_characters\n",
        "    count_27 = np.count_nonzero(masked_word == 27)\n",
        "    std_dev = n / (5*count_27) if count_27 > 0 else 0\n",
        "    random_integers = np.random.normal(0, std_dev)\n",
        "    misses = np.clip(random_integers, 0, n).astype(int)\n",
        "    pool = np.setdiff1d(np.arange(26), list(map(lambda x: x - 1, word)))\n",
        "    random.shuffle(pool)\n",
        "    previously_guessed_letters = np.zeros((26,))\n",
        "    previously_guessed_letters[pool[:misses]] = 1\n",
        "    masked_word_indices = masked_word[masked_word < 27] - 1\n",
        "    previously_guessed_letters[masked_word_indices] = 1\n",
        "\n",
        "    return previously_guessed_letters\n"
      ],
      "metadata": {
        "id": "MsioEeewcYJz"
      },
      "execution_count": 9,
      "outputs": []
    },
    {
      "cell_type": "code",
      "source": [
        "def end_to_end_encoding_one_word_once(word, max_len, intensity):\n",
        "    \"\"\"\n",
        "    Combines all functions defined above.\n",
        "\n",
        "    Parameters:\n",
        "    - word (str): The word to be encoded.\n",
        "    - max_len (int): The maximum length to which the word will be padded.\n",
        "    - intensity (int): The intensity of masking, i.e., the number of letters to be masked in the word.\n",
        "\n",
        "    Returns:\n",
        "    - padded_masked_word (numpy.ndarray): An array representing the padded and masked word.\n",
        "    - previously_guessed_letters (numpy.ndarray): A binary array indicating which letters have been previously guessed.\n",
        "    - true_labels (numpy.ndarray): An array representing the true labels of the masked letters in one-hot encoded format.\n",
        "\n",
        "    Example:\n",
        "    >>> end_to_end_encoding_one_word_once('hello', 7, 2)\n",
        "    (array([27, 27, 12, 12, 15,  0,  0]), array([0, 0, 0, 0, 0, 0, 0, 0, 0, 0, 0, 0, 0, 0, 0, 0, 0, 0, 0, 0, 0, 0, 0, 0, 0, 0]), array([0, 1, 0, 0, 0, 0, 0, 0, 0, 0, 0, 0, 0, 0, 0, 0, 0, 0, 0, 0, 0, 0, 0, 0, 0, 0]))\n",
        "    \"\"\"\n",
        "\n",
        "    true_len = len(word)\n",
        "    encoded_word = encode_word(word)\n",
        "    print(encoded_word)\n",
        "    masked_word, true_labels = mask_word(encoded_word, intensity=intensity)\n",
        "    padded_masked_word = pad_word(masked_word, max_len)\n",
        "    previously_guessed_letters = generate_previously_guessed_letters(encoded_word,masked_word)\n",
        "\n",
        "    return padded_masked_word, previously_guessed_letters, true_labels"
      ],
      "metadata": {
        "id": "0SGsNIP-cZGz"
      },
      "execution_count": 10,
      "outputs": []
    },
    {
      "cell_type": "code",
      "source": [
        "end_to_end_encoding_one_word_once(\"aditya\", 10, 5)"
      ],
      "metadata": {
        "colab": {
          "base_uri": "https://localhost:8080/"
        },
        "id": "R4UTxt_Ucaoy",
        "outputId": "db2415b9-aa5e-4cfc-f00e-6d3f78a1fc36"
      },
      "execution_count": 11,
      "outputs": [
        {
          "output_type": "stream",
          "name": "stdout",
          "text": [
            "[ 1  4  9 20 25  1]\n"
          ]
        },
        {
          "output_type": "execute_result",
          "data": {
            "text/plain": [
              "(array([27, 27, 27, 27, 27, 27,  0,  0,  0,  0]),\n",
              " array([0., 0., 0., 0., 0., 0., 0., 0., 0., 0., 0., 0., 0., 0., 0., 1., 0.,\n",
              "        0., 0., 0., 0., 0., 0., 0., 0., 0.]),\n",
              " array([1, 0, 0, 1, 0, 0, 0, 0, 1, 0, 0, 0, 0, 0, 0, 0, 0, 0, 0, 1, 0, 0,\n",
              "        0, 0, 1, 0]))"
            ]
          },
          "metadata": {},
          "execution_count": 11
        }
      ]
    },
    {
      "cell_type": "code",
      "source": [
        "def end_to_end_encoding_whole_dataset(fileName):\n",
        "    \"\"\"\n",
        "    Utilizes end_to_end_encoding_one_word_once defined above to generate the entire dataset.\n",
        "\n",
        "    Parameters:\n",
        "    - fileName (str): The name of the file containing the dataset of words.\n",
        "\n",
        "    Returns:\n",
        "    - X1 (numpy.ndarray): An array representing the padded and masked words.\n",
        "    - X2 (numpy.ndarray): An array representing the binary arrays indicating which letters have been previously guessed for each word.\n",
        "    - y (numpy.ndarray): An array representing the true labels of the masked letters in one-hot encoded format for each word.\n",
        "    \"\"\"\n",
        "    path = os.path.join('/content',fileName)\n",
        "    with open(path, 'r') as f:\n",
        "      words = [line.strip().lower() for line in f]\n",
        "    # words = np.random.permutation(words)\n",
        "\n",
        "    global MAX_LEN\n",
        "    MAX_LEN = max([len(i) for i in words])\n",
        "    X1, X2, y = [], [], []\n",
        "\n",
        "    for word in words:\n",
        "      for intensity in range(len(set(word)),0,-1):\n",
        "        x1_one, x2_one, y_one = end_to_end_encoding_one_word_once(word, max_len=MAX_LEN, intensity=intensity)\n",
        "        X1.append(x1_one)\n",
        "        X2.append(x2_one)\n",
        "        y.append(y_one)\n",
        "\n",
        "    return np.array(X1), np.array(X2), np.array(y)"
      ],
      "metadata": {
        "id": "DykzUhBtcbxY"
      },
      "execution_count": 12,
      "outputs": []
    },
    {
      "cell_type": "markdown",
      "source": [
        "#Helper Functions to Play Hangman"
      ],
      "metadata": {
        "id": "Ym_KmM8Lvt1h"
      }
    },
    {
      "cell_type": "code",
      "source": [
        "def cpu_play_hangman(model, true_word, max_len_fine_tune=20, verbose=False,):\n",
        "  previous_guesses = np.zeros((1,26))\n",
        "  # word_len = len(true_word)\n",
        "  answer = np.zeros((1,len(true_word))).astype(int)\n",
        "  answer[:,:] = 27\n",
        "  incorrect_count = 0\n",
        "  previous_guesses_train_data = []\n",
        "  true_labels_train_data = []\n",
        "  answer_train_data = []\n",
        "  while(27 in answer[0,:]):\n",
        "    answer_train_data.extend(np.expand_dims(pad_word(answer.copy()[0,:], max_len_fine_tune),0))\n",
        "    previous_guesses_train_data.extend(previous_guesses.copy())\n",
        "    true_labels = np.zeros((1,26))\n",
        "    true_labels[0,:][np.setdiff1d(true_word, answer[0,:])-1] = 1\n",
        "    true_labels_train_data.extend(true_labels.copy())\n",
        "    prediction = model.predict([answer, previous_guesses], verbose=False)\n",
        "    ai_guess = np.argmax(prediction)\n",
        "    sorted_indexes = np.argsort(-prediction[0,:])\n",
        "    index = 0\n",
        "    while((ai_guess) in np.arange(26)[previous_guesses[0,:]==1] and index!=26):\n",
        "      ai_guess = sorted_indexes[index]\n",
        "      index += 1\n",
        "      # print(\"i'm here with index:\", index)\n",
        "    pos = true_word==(ai_guess+1)\n",
        "    previous_guesses[:, ai_guess] = 1\n",
        "    # true_labels_train_data.extend()\n",
        "    if(True not in pos):\n",
        "      incorrect_count += 1\n",
        "    else:\n",
        "      answer[:, pos] = ai_guess + 1\n",
        "    if(verbose == True):\n",
        "      print(\"guess:\", vocab[ai_guess+1])\n",
        "      print(\"word:\", ''.join(vocab[answer[0,:]]))\n",
        "      # print(\"answer_train_data\", answer_train_data)\n",
        "      print()\n",
        "  return incorrect_count, answer_train_data, previous_guesses_train_data, true_labels_train_data"
      ],
      "metadata": {
        "id": "1RKFHf62c9jC"
      },
      "execution_count": 13,
      "outputs": []
    },
    {
      "cell_type": "code",
      "source": [
        "def user_play_hangman(model):\n",
        "  previous_guesses = np.zeros((1,26))\n",
        "  user_word_len = int(input(\"input number of letters in your word: \"))\n",
        "  masked_word = np.zeros((1, user_word_len)).astype(int)\n",
        "  masked_word[:,:] = 27\n",
        "  incorrect_count = 0\n",
        "  print(masked_word[0,:])\n",
        "  while(27 in masked_word[0,:]):\n",
        "    prediction = model.predict([masked_word, previous_guesses], verbose=False)\n",
        "    # print(\"prediction:\",prediction)\n",
        "    ai_guess = np.argmax(prediction)\n",
        "    pos = input(f\"enter position for {vocab[ai_guess+1]}:\")\n",
        "    previous_guesses[:,ai_guess] = 1\n",
        "    if(pos != 'x'):\n",
        "      pos = list(map(int,pos.split()))\n",
        "      masked_word[:,pos] = ai_guess + 1\n",
        "    if(pos == 'x'):\n",
        "      incorrect_count += 1\n",
        "    # print(\"guess:\", )\n",
        "    print(\"word:\", ''.join(vocab[masked_word[0,:]]))\n",
        "    # print(\"guessed:\", vocab[np.concatenate(([0],previous_guesses[0],[0]))==1])\n",
        "  print(\"incorrect_count:\",incorrect_count)"
      ],
      "metadata": {
        "id": "5qAryujSwyP1"
      },
      "execution_count": 107,
      "outputs": []
    },
    {
      "cell_type": "markdown",
      "source": [
        "#Mount Google Drive to:-\n",
        "1. Load Data\n",
        "2. Store Models\n",
        "3. Load these stored models"
      ],
      "metadata": {
        "id": "3dqhwuMYw0RM"
      }
    },
    {
      "cell_type": "code",
      "source": [
        "from google.colab import drive\n",
        "drive.mount('/content/drive')"
      ],
      "metadata": {
        "colab": {
          "base_uri": "https://localhost:8080/"
        },
        "id": "NnEo2kZucc9A",
        "outputId": "fb3a8ef2-1bde-49bc-bcbe-84154b86c5c8"
      },
      "execution_count": 14,
      "outputs": [
        {
          "output_type": "stream",
          "name": "stdout",
          "text": [
            "Mounted at /content/drive\n"
          ]
        }
      ]
    },
    {
      "cell_type": "markdown",
      "source": [
        "#Generate the Dataset"
      ],
      "metadata": {
        "id": "gf-u0gzuxKHL"
      }
    },
    {
      "cell_type": "code",
      "source": [
        "X1, X2, y = end_to_end_encoding_whole_dataset('Hangman Word List.txt')"
      ],
      "metadata": {
        "id": "gFlPjReHxNpx"
      },
      "execution_count": null,
      "outputs": []
    },
    {
      "cell_type": "markdown",
      "source": [
        "###Store the Dataset in Google Drive"
      ],
      "metadata": {
        "id": "u5dG3WG8xrmA"
      }
    },
    {
      "cell_type": "code",
      "source": [
        "np.save('/content/drive/My Drive/hangman/X1_v2.npy', X1)\n",
        "np.save('/content/drive/My Drive/hangman/X2_v2.npy', X2)\n",
        "np.save('/content/drive/My Drive/hangman/y_v2.npy', y)"
      ],
      "metadata": {
        "id": "Sx1XbM5oxqqb"
      },
      "execution_count": null,
      "outputs": []
    },
    {
      "cell_type": "markdown",
      "source": [
        "###Load Generated Dataset"
      ],
      "metadata": {
        "id": "EJrZoaexx4b-"
      }
    },
    {
      "cell_type": "code",
      "source": [
        "X1 = np.load('/content/drive/My Drive/hangman/X1_v2.npy')\n",
        "X2 = np.load('/content/drive/My Drive/hangman/X2_v2.npy')\n",
        "y = np.load('/content/drive/My Drive/hangman/y_v2.npy')"
      ],
      "metadata": {
        "id": "F1nRIQuxcgEN"
      },
      "execution_count": 15,
      "outputs": []
    },
    {
      "cell_type": "code",
      "source": [
        "print(''.join(vocab[X1[11]]))\n",
        "print(vocab[np.concatenate(([0],y[11],[0]))==1])"
      ],
      "metadata": {
        "colab": {
          "base_uri": "https://localhost:8080/"
        },
        "id": "3c24DHytcoxR",
        "outputId": "e4ccd922-8bd5-45fb-dc20-5a92cf6a23e4"
      },
      "execution_count": 16,
      "outputs": [
        {
          "output_type": "stream",
          "name": "stdout",
          "text": [
            "___                          \n",
            "['a' 'g']\n"
          ]
        }
      ]
    },
    {
      "cell_type": "markdown",
      "source": [
        "##Shuffle and Partition Dataset"
      ],
      "metadata": {
        "id": "9RTN5mutyF-F"
      }
    },
    {
      "cell_type": "code",
      "source": [
        "def mcshbap(X1, X2, y):\n",
        "\n",
        "  #MCSHBAP - map, chache, shuffle, batch, prefetch  from_tensor_slices, list_file\n",
        "  dataset = tf.data.Dataset.from_tensor_slices(((X1,X2), y))\n",
        "  dataset = dataset.cache()\n",
        "  dataset = dataset.shuffle(len(X1))\n",
        "  dataset = dataset.batch(32)\n",
        "  dataset = dataset.prefetch(16) # helps bottlenecks\n",
        "  train = dataset.take(int(len(dataset)*.7))\n",
        "  val = dataset.skip(int(len(dataset)*.7)).take(int(len(dataset)*.2))\n",
        "  test = dataset.skip(int(len(dataset)*.9)).take(int(len(dataset)*.1))\n",
        "\n",
        "  return train, test, val"
      ],
      "metadata": {
        "id": "rZHn1CcOcr4R"
      },
      "execution_count": 17,
      "outputs": []
    },
    {
      "cell_type": "markdown",
      "source": [
        "MAX_LEN stores the length of the longest word in dataset"
      ],
      "metadata": {
        "id": "9dLmjB1KyUIE"
      }
    },
    {
      "cell_type": "code",
      "source": [
        "MAX_LEN = max([len(i) for i in X1])"
      ],
      "metadata": {
        "id": "iclgr-sld0Kh"
      },
      "execution_count": 18,
      "outputs": []
    },
    {
      "cell_type": "markdown",
      "source": [
        "#Model Architecture\n",
        "The model takes two inputs:\n",
        "1. The masked work for which guess needs to be made\n",
        "2. The letters previously guessed by the model\n",
        "\n",
        "The first input goes through 2 bidirectional lstm layers\n",
        "\n",
        "The second input is simply connected to some fully connected dense layers\n",
        "\n",
        "Their outputs are then concatenated and fed to dense layers with 26 output neurons, each one representing the 26 respective letters in the alphabet."
      ],
      "metadata": {
        "id": "3Y5gVTk_yeDq"
      }
    },
    {
      "cell_type": "code",
      "source": [
        "from tensorflow.keras.layers import LSTM, Embedding, Input, Dense, GlobalAveragePooling1D, Concatenate,Bidirectional\n",
        "from tensorflow.keras.models import Model\n",
        "\n",
        "inp_masked_word = Input(shape = (None,))\n",
        "x1 = Embedding(30,100, mask_zero = True)(inp_masked_word)\n",
        "x1 = Bidirectional(LSTM(100 , dropout = 0.2, return_sequences=True))(x1)\n",
        "x1 = Bidirectional(LSTM(100, dropout = 0.2 , return_sequences=True))(x1)\n",
        "x1 = GlobalAveragePooling1D()(x1)\n",
        "x1 = Dense(100, activation = 'tanh')(x1)\n",
        "\n",
        "inp_prev_guessed_letters = Input(shape = (26,))\n",
        "x2 = Dense(60, activation = 'tanh')(inp_prev_guessed_letters)\n",
        "x2 = Dense(60, activation = 'tanh')(x2)\n",
        "\n",
        "x = Concatenate()([x1, x2])\n",
        "x = Dense(100, activation = 'tanh')(x)\n",
        "x = Dense(26, activation = 'softmax')(x)\n",
        "\n",
        "model = Model(inputs=[inp_masked_word, inp_prev_guessed_letters],\n",
        "                       outputs=x)"
      ],
      "metadata": {
        "id": "OUny1-Ysd1Z4"
      },
      "execution_count": 16,
      "outputs": []
    },
    {
      "cell_type": "code",
      "source": [
        "model.summary()"
      ],
      "metadata": {
        "colab": {
          "base_uri": "https://localhost:8080/"
        },
        "id": "WP6UdICphR73",
        "outputId": "6a0c63c8-18a4-4f82-f1bf-3b6f12537b93"
      },
      "execution_count": 17,
      "outputs": [
        {
          "output_type": "stream",
          "name": "stdout",
          "text": [
            "Model: \"model\"\n",
            "__________________________________________________________________________________________________\n",
            " Layer (type)                Output Shape                 Param #   Connected to                  \n",
            "==================================================================================================\n",
            " input_1 (InputLayer)        [(None, None)]               0         []                            \n",
            "                                                                                                  \n",
            " embedding (Embedding)       (None, None, 100)            3000      ['input_1[0][0]']             \n",
            "                                                                                                  \n",
            " bidirectional (Bidirection  (None, None, 200)            160800    ['embedding[0][0]']           \n",
            " al)                                                                                              \n",
            "                                                                                                  \n",
            " bidirectional_1 (Bidirecti  (None, None, 200)            240800    ['bidirectional[0][0]']       \n",
            " onal)                                                                                            \n",
            "                                                                                                  \n",
            " input_2 (InputLayer)        [(None, 26)]                 0         []                            \n",
            "                                                                                                  \n",
            " global_average_pooling1d (  (None, 200)                  0         ['bidirectional_1[0][0]']     \n",
            " GlobalAveragePooling1D)                                                                          \n",
            "                                                                                                  \n",
            " dense_1 (Dense)             (None, 60)                   1620      ['input_2[0][0]']             \n",
            "                                                                                                  \n",
            " dense (Dense)               (None, 100)                  20100     ['global_average_pooling1d[0][\n",
            "                                                                    0]']                          \n",
            "                                                                                                  \n",
            " dense_2 (Dense)             (None, 60)                   3660      ['dense_1[0][0]']             \n",
            "                                                                                                  \n",
            " concatenate (Concatenate)   (None, 160)                  0         ['dense[0][0]',               \n",
            "                                                                     'dense_2[0][0]']             \n",
            "                                                                                                  \n",
            " dense_3 (Dense)             (None, 100)                  16100     ['concatenate[0][0]']         \n",
            "                                                                                                  \n",
            " dense_4 (Dense)             (None, 26)                   2626      ['dense_3[0][0]']             \n",
            "                                                                                                  \n",
            "==================================================================================================\n",
            "Total params: 448706 (1.71 MB)\n",
            "Trainable params: 448706 (1.71 MB)\n",
            "Non-trainable params: 0 (0.00 Byte)\n",
            "__________________________________________________________________________________________________\n"
          ]
        }
      ]
    },
    {
      "cell_type": "markdown",
      "source": [
        "###Compiling the Model"
      ],
      "metadata": {
        "id": "FjGrZnlwyrmY"
      }
    },
    {
      "cell_type": "markdown",
      "source": [
        "- We could've used the binary cross entropy loss, which would treat the problem as a multi label classification problem, in which the masked word has multiple correct characters that could be picked.\n",
        "\n",
        "* This is how I had trained the model first, in a previous notebook (hangman_v2).\n",
        "\n",
        "* But here, I've set the loss to categorical cross entropy, now treating the problem as a masked word having one best response.\n",
        "\n",
        "* To achieve this, the letters that need to be guessed are set to have equal probabilities (alternatively, we could've set the probability distribution to vary proportional to the frequency of each letter in the word).\n",
        "\n",
        "In either case, during prediction, we pick the highest probability node from the 26d output layer and use it as the guessed letter."
      ],
      "metadata": {
        "id": "_klM8nsaO5Fc"
      }
    },
    {
      "cell_type": "code",
      "source": [
        "# each entry in y needs to sum to one because we're using categorical cross entropy loss\n",
        "y_normalized = y/np.expand_dims(np.sum(y, axis =1), axis=1)\n",
        "print(y[2])\n",
        "print(y_normalized[2])"
      ],
      "metadata": {
        "colab": {
          "base_uri": "https://localhost:8080/"
        },
        "id": "T3U2f5T6hUNu",
        "outputId": "e2f0662a-b1ad-40db-8532-a7337a7291a0"
      },
      "execution_count": 19,
      "outputs": [
        {
          "output_type": "stream",
          "name": "stdout",
          "text": [
            "[1 0 0 0 0 0 0 0 0 0 0 0 0 0 0 0 0 0 1 0 0 0 0 0 0 0]\n",
            "[0.5 0.  0.  0.  0.  0.  0.  0.  0.  0.  0.  0.  0.  0.  0.  0.  0.  0.\n",
            " 0.5 0.  0.  0.  0.  0.  0.  0. ]\n"
          ]
        }
      ]
    },
    {
      "cell_type": "code",
      "source": [
        "model.compile(loss = 'categorical_crossentropy', optimizer = tf.keras.optimizers.Adam(1e-3, clipnorm=1))"
      ],
      "metadata": {
        "id": "HwGDk-POiMwC"
      },
      "execution_count": 19,
      "outputs": []
    },
    {
      "cell_type": "markdown",
      "source": [
        "Checking for bugs"
      ],
      "metadata": {
        "id": "0BzZGB3iy1g7"
      }
    },
    {
      "cell_type": "code",
      "source": [
        "aditya_encoded, previous_guesses, _ = end_to_end_encoding_one_word_once('aditya',10,2)\n",
        "print(previous_guesses)\n",
        "print(aditya_encoded.shape)\n",
        "model.predict([np.expand_dims(aditya_encoded,0), np.expand_dims(previous_guesses,0)])"
      ],
      "metadata": {
        "colab": {
          "base_uri": "https://localhost:8080/"
        },
        "id": "CYhBFrlXivxu",
        "outputId": "4a77f117-308d-49e7-afe3-bf1603d6d52a"
      },
      "execution_count": 20,
      "outputs": [
        {
          "output_type": "stream",
          "name": "stdout",
          "text": [
            "[ 1  4  9 20 25  1]\n",
            "[0. 0. 0. 1. 0. 0. 0. 0. 1. 0. 0. 0. 0. 0. 0. 0. 0. 0. 0. 0. 0. 0. 0. 0.\n",
            " 1. 0.]\n",
            "(10,)\n",
            "1/1 [==============================] - 6s 6s/step\n"
          ]
        },
        {
          "output_type": "execute_result",
          "data": {
            "text/plain": [
              "array([[0.04487068, 0.05260931, 0.0416332 , 0.04260204, 0.04731336,\n",
              "        0.03744285, 0.02887094, 0.03380676, 0.02498462, 0.03640433,\n",
              "        0.03730086, 0.04651736, 0.04113194, 0.04146351, 0.03561266,\n",
              "        0.03532149, 0.03334032, 0.03576597, 0.03492651, 0.03872498,\n",
              "        0.04410335, 0.03919568, 0.03492558, 0.03140118, 0.05005854,\n",
              "        0.02967194]], dtype=float32)"
            ]
          },
          "metadata": {},
          "execution_count": 20
        }
      ]
    },
    {
      "cell_type": "markdown",
      "source": [
        "Splitting into train, test and validation sets"
      ],
      "metadata": {
        "id": "-wbq_Se_y89q"
      }
    },
    {
      "cell_type": "code",
      "source": [
        "train, val, test = mcshbap(X1, X2, y_normalized)"
      ],
      "metadata": {
        "id": "Eq6boEZ2i5PV"
      },
      "execution_count": 21,
      "outputs": []
    },
    {
      "cell_type": "markdown",
      "source": [
        "##Fitting the model to our dataset\n",
        "The model runs for 5 epochs in total"
      ],
      "metadata": {
        "id": "BLeDa2Zgy__D"
      }
    },
    {
      "cell_type": "code",
      "source": [
        "history1 = model.fit(train, epochs=2, validation_data=val)"
      ],
      "metadata": {
        "colab": {
          "base_uri": "https://localhost:8080/"
        },
        "id": "aL9SfhQbjS5J",
        "outputId": "0e82d7f7-1f35-4f90-85b6-4483291038c2"
      },
      "execution_count": 22,
      "outputs": [
        {
          "output_type": "stream",
          "name": "stdout",
          "text": [
            "Epoch 1/2\n",
            "36776/36776 [==============================] - 930s 25ms/step - loss: 2.5471 - val_loss: 2.4793\n",
            "Epoch 2/2\n",
            "36776/36776 [==============================] - 888s 24ms/step - loss: 2.4649 - val_loss: 2.4346\n"
          ]
        }
      ]
    },
    {
      "cell_type": "code",
      "source": [
        "model.save('hangman_v3_epoch2.h5')"
      ],
      "metadata": {
        "id": "cWvJ--UKjZ8x",
        "colab": {
          "base_uri": "https://localhost:8080/"
        },
        "outputId": "ba90643b-d77c-4ed0-ea94-95a0c2f96cea"
      },
      "execution_count": 23,
      "outputs": [
        {
          "output_type": "stream",
          "name": "stderr",
          "text": [
            "/usr/local/lib/python3.10/dist-packages/keras/src/engine/training.py:3103: UserWarning: You are saving your model as an HDF5 file via `model.save()`. This file format is considered legacy. We recommend using instead the native Keras format, e.g. `model.save('my_model.keras')`.\n",
            "  saving_api.save_model(\n"
          ]
        }
      ]
    },
    {
      "cell_type": "code",
      "source": [
        "history2 = model.fit(train, epochs=2, validation_data=val)"
      ],
      "metadata": {
        "colab": {
          "base_uri": "https://localhost:8080/"
        },
        "id": "ZwQZLqbBn4K9",
        "outputId": "ae6d2e2b-bb6a-4364-f272-b4566e943478"
      },
      "execution_count": 25,
      "outputs": [
        {
          "output_type": "stream",
          "name": "stdout",
          "text": [
            "Epoch 1/2\n",
            "36776/36776 [==============================] - 884s 24ms/step - loss: 2.4357 - val_loss: 2.4072\n",
            "Epoch 2/2\n",
            "36776/36776 [==============================] - 900s 24ms/step - loss: 2.4196 - val_loss: 2.3967\n"
          ]
        }
      ]
    },
    {
      "cell_type": "code",
      "source": [
        "model.save('hangman_v3_epoch4.h5')"
      ],
      "metadata": {
        "colab": {
          "base_uri": "https://localhost:8080/"
        },
        "id": "KKeCZXIMzkx1",
        "outputId": "88d2027f-c991-43e8-ff4e-cf3ce02482e0"
      },
      "execution_count": 26,
      "outputs": [
        {
          "output_type": "stream",
          "name": "stderr",
          "text": [
            "/usr/local/lib/python3.10/dist-packages/keras/src/engine/training.py:3103: UserWarning: You are saving your model as an HDF5 file via `model.save()`. This file format is considered legacy. We recommend using instead the native Keras format, e.g. `model.save('my_model.keras')`.\n",
            "  saving_api.save_model(\n"
          ]
        }
      ]
    },
    {
      "cell_type": "code",
      "source": [
        "history3 = model.fit(train, epochs=1, validation_data=val)"
      ],
      "metadata": {
        "colab": {
          "base_uri": "https://localhost:8080/"
        },
        "id": "vwAkdM3pzpBc",
        "outputId": "e9e2e465-7792-4ae8-e9ff-82504c322573"
      },
      "execution_count": 27,
      "outputs": [
        {
          "output_type": "stream",
          "name": "stdout",
          "text": [
            "36776/36776 [==============================] - 888s 24ms/step - loss: 2.4096 - val_loss: 2.3836\n"
          ]
        }
      ]
    },
    {
      "cell_type": "markdown",
      "source": [
        "saving the model to gdrive"
      ],
      "metadata": {
        "id": "FwWTAIASRJN7"
      }
    },
    {
      "cell_type": "code",
      "source": [
        "model.save('hangman_v3_epoch5.h5')"
      ],
      "metadata": {
        "id": "U626pWMizxW9"
      },
      "execution_count": 28,
      "outputs": []
    },
    {
      "cell_type": "markdown",
      "source": [
        "loading the model from gdrive"
      ],
      "metadata": {
        "id": "jMSoT8YKRLHG"
      }
    },
    {
      "cell_type": "code",
      "source": [
        "model = tf.keras.models.load_model('/content/drive/My Drive/hangman/hangman_v3_epoch5.h5')"
      ],
      "metadata": {
        "id": "2ipnsWm_6hBu"
      },
      "execution_count": null,
      "outputs": []
    },
    {
      "cell_type": "markdown",
      "source": [
        "##Plotting Loss Function Graph"
      ],
      "metadata": {
        "id": "EEvILTYHzT9e"
      }
    },
    {
      "cell_type": "code",
      "source": [
        "import matplotlib.pyplot as plt\n",
        "# Concatenate multiple history objects into a single history object\n",
        "def concatenate_histories(histories):\n",
        "    concatenated_history = {\"loss\": [], \"val_loss\": []}\n",
        "\n",
        "    for history in histories:\n",
        "        concatenated_history[\"loss\"].extend(history.history[\"loss\"])\n",
        "        concatenated_history[\"val_loss\"].extend(history.history[\"val_loss\"])\n",
        "\n",
        "    return concatenated_history\n",
        "\n",
        "histories = [history1, history2, history3]\n",
        "\n",
        "concatenated_history = concatenate_histories(histories)\n",
        "\n",
        "epochs = range(1, len(concatenated_history[\"loss\"]) + 1)\n",
        "plt.plot(epochs, concatenated_history[\"loss\"], label='Training Loss')\n",
        "plt.plot(epochs, concatenated_history[\"val_loss\"], label='Validation Loss')\n",
        "plt.title('Concatenated Training and Validation Loss')\n",
        "plt.xlabel('Epochs')\n",
        "plt.ylabel('Loss')\n",
        "plt.legend()\n",
        "plt.show()\n"
      ],
      "metadata": {
        "colab": {
          "base_uri": "https://localhost:8080/",
          "height": 472
        },
        "id": "2RB1GsoA3Kq2",
        "outputId": "76d424f8-4a9e-4599-a71c-761eab88a71a"
      },
      "execution_count": 31,
      "outputs": [
        {
          "output_type": "display_data",
          "data": {
            "text/plain": [
              "<Figure size 640x480 with 1 Axes>"
            ],
            "image/png": "[encoded data removed]"
          },
          "metadata": {}
        }
      ]
    },
    {
      "cell_type": "markdown",
      "source": [
        "#Testing the Model\n",
        "Now we run the model on a randomly shuffled word list to test out it's accuracy and also get more data for training based on what the model gets wrong in case we want to fine tune it later (not done in this notebook)"
      ],
      "metadata": {
        "id": "OdRAQrHp0SwV"
      }
    },
    {
      "cell_type": "code",
      "source": [
        "with open('/content/hangman_word_list_shuffled.txt','r') as f:\n",
        "  words = [word.strip().lower() for word in f.readlines()]"
      ],
      "metadata": {
        "id": "p4j5Kbsd3obn"
      },
      "execution_count": 2,
      "outputs": []
    },
    {
      "cell_type": "markdown",
      "source": [
        "###Function to get the number of incorrect counts and new data for fine tuning"
      ],
      "metadata": {
        "id": "n-I9Qlx60xLC"
      }
    },
    {
      "cell_type": "code",
      "source": [
        "def test_and_gen_data(model, word_start_index, word_end_index):\n",
        "  test_set = words[word_start_index:word_end_index]\n",
        "  # print(encode_word(test_set[0]))\n",
        "  misses, word_len, X1, X2, y = [], [], [], [], []\n",
        "  max_len_fine_tune = MAX_LEN\n",
        "  i = 0\n",
        "  for word in test_set:\n",
        "    word_len.append(len(word))\n",
        "    misses_one, x1_one, x2_one, y_one = cpu_play_hangman(model, encode_word(word), max_len_fine_tune=max_len_fine_tune)\n",
        "    misses.append(misses_one)\n",
        "    X1.extend(x1_one)\n",
        "    X2.extend(x2_one)\n",
        "    y.extend(y_one)\n",
        "    i+=1\n",
        "    print(i, end=\" \")\n",
        "  # accuracy = [cpu_play_hangman(encode_word(word)) for word in test_set]\n",
        "  X1 = np.array(X1)\n",
        "  X2 = np.array(X2)\n",
        "  y = np.array(y)\n",
        "  misses = np.array(misses)\n",
        "  print(misses)\n",
        "  print(X1.shape)\n",
        "  print(X2.shape)\n",
        "  print(y.shape)\n",
        "  np.save(f'/content/X1_v3_{str(word_start_index)[0]}k_{str(word_end_index)[0]}k.npy', X1)\n",
        "  np.save(f'/content/X2_v3_{str(word_start_index)[0]}k_{str(word_end_index)[0]}k.npy', X2)\n",
        "  np.save(f'/content/y_v3_{str(word_start_index)[0]}k_{str(word_end_index)[0]}k.npy', y)\n",
        "  return misses, word_len, X1, X2, y"
      ],
      "metadata": {
        "id": "EWOqGw5cDI3f"
      },
      "execution_count": 71,
      "outputs": []
    },
    {
      "cell_type": "code",
      "source": [
        "misses_1k, word_len_1k, X1_1k, X2_1k, y_1k = test_and_gen_data(model, 0, 1000)"
      ],
      "metadata": {
        "colab": {
          "base_uri": "https://localhost:8080/"
        },
        "id": "-VRw_c2laFkn",
        "outputId": "ffe41d2e-581e-4d49-be4c-7eab2a736831"
      },
      "execution_count": 32,
      "outputs": [
        {
          "output_type": "stream",
          "name": "stdout",
          "text": [
            "1 2 3 4 5 6 7 8 9 10 11 12 13 14 15 16 17 18 19 20 21 22 23 24 25 26 27 28 29 30 31 32 33 34 35 36 37 38 39 40 41 42 43 44 45 46 47 48 49 50 51 52 53 54 55 56 57 58 59 60 61 62 63 64 65 66 67 68 69 70 71 72 73 74 75 76 77 78 79 80 81 82 83 84 85 86 87 88 89 90 91 92 93 94 95 96 97 98 99 100 101 102 103 104 105 106 107 108 109 110 111 112 113 114 115 116 117 118 119 120 121 122 123 124 125 126 127 128 129 130 131 132 133 134 135 136 137 138 139 140 141 142 143 144 145 146 147 148 149 150 151 152 153 154 155 156 157 158 159 160 161 162 163 164 165 166 167 168 169 170 171 172 173 174 175 176 177 178 179 180 181 182 183 184 185 186 187 188 189 190 191 192 193 194 195 196 197 198 199 200 201 202 203 204 205 206 207 208 209 210 211 212 213 214 215 216 217 218 219 220 221 222 223 224 225 226 227 228 229 230 231 232 233 234 235 236 237 238 239 240 241 242 243 244 245 246 247 248 249 250 251 252 253 254 255 256 257 258 259 260 261 262 263 264 265 266 267 268 269 270 271 272 273 274 275 276 277 278 279 280 281 282 283 284 285 286 287 288 289 290 291 292 293 294 295 296 297 298 299 300 301 302 303 304 305 306 307 308 309 310 311 312 313 314 315 316 317 318 319 320 321 322 323 324 325 326 327 328 329 330 331 332 333 334 335 336 337 338 339 340 341 342 343 344 345 346 347 348 349 350 351 352 353 354 355 356 357 358 359 360 361 362 363 364 365 366 367 368 369 370 371 372 373 374 375 376 377 378 379 380 381 382 383 384 385 386 387 388 389 390 391 392 393 394 395 396 397 398 399 400 401 402 403 404 405 406 407 408 409 410 411 412 413 414 415 416 417 418 419 420 421 422 423 424 425 426 427 428 429 430 431 432 433 434 435 436 437 438 439 440 441 442 443 444 445 446 447 448 449 450 451 452 453 454 455 456 457 458 459 460 461 462 463 464 465 466 467 468 469 470 471 472 473 474 475 476 477 478 479 480 481 482 483 484 485 486 487 488 489 490 491 492 493 494 495 496 497 498 499 500 501 502 503 504 505 506 507 508 509 510 511 512 513 514 515 516 517 518 519 520 521 522 523 524 525 526 527 528 529 530 531 532 533 534 535 536 537 538 539 540 541 542 543 544 545 546 547 548 549 550 551 552 553 554 555 556 557 558 559 560 561 562 563 564 565 566 567 568 569 570 571 572 573 574 575 576 577 578 579 580 581 582 583 584 585 586 587 588 589 590 591 592 593 594 595 596 597 598 599 600 601 602 603 604 605 606 607 608 609 610 611 612 613 614 615 616 617 618 619 620 621 622 623 624 625 626 627 628 629 630 631 632 633 634 635 636 637 638 639 640 641 642 643 644 645 646 647 648 649 650 651 652 653 654 655 656 657 658 659 660 661 662 663 664 665 666 667 668 669 670 671 672 673 674 675 676 677 678 679 680 681 682 683 684 685 686 687 688 689 690 691 692 693 694 695 696 697 698 699 700 701 702 703 704 705 706 707 708 709 710 711 712 713 714 715 716 717 718 719 720 721 722 723 724 725 726 727 728 729 730 731 732 733 734 735 736 737 738 739 740 741 742 743 744 745 746 747 748 749 750 751 752 753 754 755 756 757 758 759 760 761 762 763 764 765 766 767 768 769 770 771 772 773 774 775 776 777 778 779 780 781 782 783 784 785 786 787 788 789 790 791 792 793 794 795 796 797 798 799 800 801 802 803 804 805 806 807 808 809 810 811 812 813 814 815 816 817 818 819 820 821 822 823 824 825 826 827 828 829 830 831 832 833 834 835 836 837 838 839 840 841 842 843 844 845 846 847 848 849 850 851 852 853 854 855 856 857 858 859 860 861 862 863 864 865 866 867 868 869 870 871 872 873 874 875 876 877 878 879 880 881 882 883 884 885 886 887 888 889 890 891 892 893 894 895 896 897 898 899 900 901 902 903 904 905 906 907 908 909 910 911 912 913 914 915 916 917 918 919 920 921 922 923 924 925 926 927 928 929 930 931 932 933 934 935 936 937 938 939 940 941 942 943 944 945 946 947 948 949 950 951 952 953 954 955 956 957 958 959 960 961 962 963 964 965 966 967 968 969 970 971 972 973 974 975 976 977 978 979 980 981 982 983 984 985 986 987 988 989 990 991 992 993 994 995 996 997 998 999 1000 [6, 11, 10, 5, 9, 7, 5, 1, 4, 7, 5, 7, 7, 5, 2, 3, 6, 9, 9, 3, 5, 10, 4, 6, 4, 3, 6, 1, 9, 10, 5, 6, 8, 4, 7, 1, 5, 2, 6, 8, 12, 5, 11, 5, 2, 6, 7, 11, 13, 6, 11, 4, 1, 8, 12, 8, 5, 9, 8, 8, 14, 9, 4, 9, 4, 10, 8, 6, 10, 8, 4, 4, 2, 5, 4, 6, 2, 10, 5, 2, 4, 9, 4, 3, 14, 1, 7, 2, 7, 5, 8, 9, 4, 4, 3, 22, 9, 16, 3, 10, 8, 10, 8, 1, 7, 12, 1, 1, 1, 8, 2, 6, 5, 12, 7, 5, 6, 17, 4, 10, 9, 3, 2, 6, 1, 7, 4, 3, 9, 10, 2, 7, 6, 6, 6, 1, 11, 13, 6, 8, 5, 1, 10, 9, 3, 4, 11, 0, 1, 19, 3, 3, 5, 2, 4, 13, 11, 9, 3, 1, 17, 8, 3, 2, 9, 6, 5, 17, 3, 2, 6, 2, 4, 12, 10, 3, 11, 4, 6, 1, 4, 8, 1, 6, 5, 3, 3, 12, 4, 5, 8, 0, 4, 8, 6, 2, 0, 0, 8, 10, 9, 4, 9, 0, 3, 10, 9, 15, 9, 7, 4, 4, 4, 4, 8, 8, 10, 1, 4, 5, 2, 6, 10, 3, 6, 5, 11, 9, 6, 10, 7, 3, 1, 5, 10, 3, 8, 5, 4, 4, 6, 11, 4, 4, 5, 6, 17, 10, 11, 7, 4, 15, 3, 2, 2, 4, 5, 12, 10, 8, 9, 2, 3, 4, 3, 1, 4, 5, 15, 5, 10, 3, 4, 3, 7, 4, 13, 2, 7, 9, 4, 5, 2, 7, 1, 4, 7, 5, 4, 14, 4, 3, 4, 2, 4, 4, 3, 2, 8, 5, 3, 4, 5, 5, 2, 4, 3, 0, 7, 7, 9, 6, 6, 2, 4, 1, 12, 4, 9, 3, 4, 4, 6, 4, 2, 3, 0, 9, 6, 7, 7, 9, 2, 11, 11, 12, 8, 1, 6, 11, 6, 9, 1, 3, 5, 6, 6, 6, 3, 7, 4, 6, 14, 1, 2, 3, 11, 3, 19, 5, 2, 10, 6, 8, 7, 12, 5, 5, 6, 7, 15, 0, 9, 16, 12, 6, 5, 9, 9, 8, 10, 7, 3, 6, 5, 1, 1, 8, 8, 3, 5, 2, 12, 8, 1, 15, 3, 5, 6, 2, 1, 6, 3, 8, 11, 3, 8, 5, 4, 7, 2, 2, 2, 13, 2, 8, 2, 11, 4, 11, 8, 9, 4, 2, 2, 4, 11, 7, 4, 5, 6, 7, 6, 1, 3, 8, 1, 6, 12, 8, 10, 2, 4, 1, 5, 0, 1, 6, 5, 6, 7, 8, 2, 9, 4, 1, 3, 5, 7, 14, 2, 0, 10, 5, 7, 3, 10, 13, 3, 3, 7, 4, 8, 7, 2, 2, 2, 5, 3, 7, 10, 6, 1, 4, 4, 6, 5, 6, 7, 6, 6, 3, 7, 12, 10, 7, 10, 3, 2, 6, 4, 8, 7, 5, 3, 10, 7, 1, 3, 14, 6, 4, 8, 5, 5, 6, 6, 2, 2, 7, 12, 8, 14, 5, 6, 4, 4, 9, 4, 8, 9, 10, 5, 2, 11, 0, 1, 2, 5, 3, 15, 8, 3, 4, 5, 8, 2, 4, 10, 9, 7, 2, 4, 9, 7, 7, 4, 4, 2, 2, 13, 5, 3, 1, 5, 3, 1, 9, 2, 2, 10, 17, 0, 3, 4, 6, 3, 6, 7, 4, 5, 2, 5, 6, 3, 6, 5, 3, 11, 7, 5, 8, 8, 10, 6, 1, 8, 5, 5, 2, 9, 5, 6, 4, 3, 4, 4, 6, 8, 15, 1, 6, 6, 1, 9, 3, 6, 11, 1, 11, 3, 9, 9, 8, 5, 0, 3, 7, 3, 4, 3, 3, 2, 7, 9, 3, 4, 3, 2, 6, 2, 6, 5, 13, 6, 1, 8, 8, 1, 14, 3, 5, 12, 3, 5, 11, 12, 9, 3, 4, 9, 4, 6, 3, 10, 3, 1, 5, 1, 8, 1, 6, 5, 6, 8, 6, 7, 0, 10, 4, 9, 15, 9, 1, 6, 4, 11, 2, 1, 18, 5, 13, 1, 5, 5, 3, 6, 8, 16, 4, 11, 13, 12, 11, 9, 18, 3, 1, 3, 7, 7, 9, 4, 2, 13, 6, 2, 16, 9, 2, 3, 4, 6, 5, 3, 3, 6, 12, 2, 10, 6, 11, 11, 4, 4, 8, 2, 7, 7, 5, 6, 11, 6, 4, 3, 7, 1, 12, 10, 8, 3, 5, 8, 7, 18, 5, 4, 7, 3, 2, 7, 7, 3, 10, 5, 0, 3, 5, 5, 11, 9, 1, 2, 4, 8, 4, 7, 0, 3, 5, 7, 3, 12, 8, 7, 6, 6, 11, 5, 4, 1, 15, 9, 7, 3, 5, 5, 4, 11, 6, 4, 9, 6, 8, 13, 4, 6, 2, 7, 9, 1, 6, 3, 6, 12, 6, 9, 1, 7, 8, 2, 3, 7, 13, 7, 2, 4, 2, 1, 7, 17, 9, 4, 2, 5, 0, 7, 1, 5, 1, 4, 5, 12, 1, 6, 1, 9, 10, 4, 13, 2, 5, 4, 5, 3, 2, 1, 1, 6, 9, 6, 2, 19, 11, 4, 5, 7, 5, 4, 5, 10, 3, 17, 1, 4, 7, 7, 4, 12, 8, 3, 6, 5, 3, 3, 4, 3, 3, 8, 7, 2, 2, 10, 10, 4, 3, 4, 1, 4, 7, 8, 7, 3, 8, 8, 7, 2, 14, 5, 1, 8, 6, 5, 2, 10, 5, 11, 3, 3, 6, 8, 6, 5, 3, 6, 2, 6, 17, 10, 3, 8, 11, 3, 8, 4, 6, 5, 13, 9, 6, 6, 7, 12, 11, 5, 5, 5, 4, 7, 4, 0, 15, 8, 3, 11, 11, 5, 6, 9, 10, 3, 7, 4, 11, 3, 6, 5, 5, 1, 12, 3, 11, 4, 2, 7, 2, 7, 0, 3, 9, 3, 7, 4, 6, 14, 1, 4, 6, 6, 13, 3, 6, 3, 2, 7, 12, 6, 3, 15, 6]\n",
            "(13492, 29)\n",
            "(13492, 26)\n",
            "(13492, 26)\n"
          ]
        }
      ]
    },
    {
      "cell_type": "code",
      "source": [
        "misses_2k, word_len_2k, X1_2k, X2_2k, y_2k = test_and_gen_data(model, 1000, 2000)"
      ],
      "metadata": {
        "id": "smCqGQptE383"
      },
      "execution_count": 102,
      "outputs": []
    },
    {
      "cell_type": "markdown",
      "source": [
        "Concatenating the matrices we got above to get data for 2000 random words"
      ],
      "metadata": {
        "id": "gQHMjc-9Rh_W"
      }
    },
    {
      "cell_type": "code",
      "source": [
        "misses_0k_2k = np.concatenate((misses_1k, misses_2k))\n",
        "word_len_0k_2k = np.concatenate((word_len_1k, word_len_2k))\n",
        "X1_0k_2k = np.concatenate((X1_1k, X1_2k))\n",
        "X2_0k_2k = np.concatenate((X2_1k, X2_2k))\n",
        "y_0k_2k = np.concatenate((y_1k, y_2k))\n"
      ],
      "metadata": {
        "id": "D0P0WeiYFDUK"
      },
      "execution_count": 91,
      "outputs": []
    },
    {
      "cell_type": "markdown",
      "source": [
        "Saving to upload to gdrive"
      ],
      "metadata": {
        "id": "CVznuPjFRuxQ"
      }
    },
    {
      "cell_type": "code",
      "source": [
        "np.save('/content/misses_v3_0k_2k.npy', misses_0k_2k)\n",
        "np.save('/content/word_len_v3_0k_2k.npy', word_len_0k_2k)\n",
        "np.save('/content/X1_v3_0k_2k.npy', X1_0k_2k)\n",
        "np.save('/content/X2_v3_0k_2k.npy', X2_0k_2k)\n",
        "np.save('/content/y_v3_0k_2k.npy', y_0k_2k)"
      ],
      "metadata": {
        "id": "RQ3Ugm8l7Er4"
      },
      "execution_count": 109,
      "outputs": []
    },
    {
      "cell_type": "markdown",
      "source": [
        "#Assessing Model Performance"
      ],
      "metadata": {
        "id": "RrZe3BLkSZnr"
      }
    },
    {
      "cell_type": "markdown",
      "source": [
        "###Histogram to analyze the number of incorrect guesses made by the model"
      ],
      "metadata": {
        "id": "EQ7WF9gISgfx"
      }
    },
    {
      "cell_type": "code",
      "source": [
        "plt.hist(misses_0k_2k, bins=max(misses_0k_2k), color='skyblue', edgecolor='black')\n",
        "plt.title('Incorrect Guesses Distribution')\n",
        "plt.xlabel('Number of Incorrect Guesses')\n",
        "plt.ylabel('Number of Words')\n"
      ],
      "metadata": {
        "colab": {
          "base_uri": "https://localhost:8080/",
          "height": 489
        },
        "id": "aGAEJpX_FGKL",
        "outputId": "67a2105f-5220-42cf-b705-9aa0df28a375"
      },
      "execution_count": 97,
      "outputs": [
        {
          "output_type": "execute_result",
          "data": {
            "text/plain": [
              "Text(0, 0.5, 'Number of Words')"
            ]
          },
          "metadata": {},
          "execution_count": 97
        },
        {
          "output_type": "display_data",
          "data": {
            "text/plain": [
              "<Figure size 640x480 with 1 Axes>"
            ],
            "image/png": "[encoded data removed]"
          },
          "metadata": {}
        }
      ]
    },
    {
      "cell_type": "markdown",
      "source": [
        "##Plotting correlation between:\n",
        "+ length of the word\n",
        "+ incorrect guesses made to before fully guessing the word\n"
      ],
      "metadata": {
        "id": "qDCHXrMR3kHN"
      }
    },
    {
      "cell_type": "code",
      "source": [
        "plt.scatter(word_len_0k_2k, misses_0k_2k, color='blue')\n",
        "plt.title('Correlation Plot')\n",
        "plt.xlabel('word_len')\n",
        "plt.ylabel('misses')\n",
        "plt.grid(True)\n",
        "plt.show()\n"
      ],
      "metadata": {
        "colab": {
          "base_uri": "https://localhost:8080/",
          "height": 472
        },
        "id": "uOeInOMgFKBT",
        "outputId": "b7be6af9-182a-4d20-852b-8a7ba7b18892"
      },
      "execution_count": 93,
      "outputs": [
        {
          "output_type": "display_data",
          "data": {
            "text/plain": [
              "<Figure size 640x480 with 1 Axes>"
            ],
            "image/png": "[encoded data removed]"
          },
          "metadata": {}
        }
      ]
    },
    {
      "cell_type": "markdown",
      "source": [
        "As expected, the number of incorrect guesses is most when the word has very few letters."
      ],
      "metadata": {
        "id": "tCOZQBHFS-gn"
      }
    },
    {
      "cell_type": "markdown",
      "source": [
        "#Testing Accuracy of the Model\n",
        "If have 6 lives, then the model correctly guesses ~60% of the words fully."
      ],
      "metadata": {
        "id": "nESqxATX1HMf"
      }
    },
    {
      "cell_type": "code",
      "source": [
        "accuracy = np.sum(np.ones(2000)[misses_0k_2k<=6])/np.sum(np.ones(2000))\n",
        "print(\"accuracy:\",accuracy)"
      ],
      "metadata": {
        "colab": {
          "base_uri": "https://localhost:8080/"
        },
        "id": "g4FUHxD_iuXn",
        "outputId": "723f2942-3abc-4fe8-924e-1b6ceae6bb83"
      },
      "execution_count": 101,
      "outputs": [
        {
          "output_type": "stream",
          "name": "stdout",
          "text": [
            "accuracy: 0.598\n"
          ]
        }
      ]
    },
    {
      "cell_type": "markdown",
      "source": [
        "#Playing the Game!\n",
        "+ With the function **user_play_hangman** we can have full control of the gameplay, in which we don't have to provide the correct answer to the program and just observe how it plays.\n",
        "+ Alternatively, with the function **cpu_play_hangman**, we can just give a word to the program and it will play the game for us.\n",
        "\n"
      ],
      "metadata": {
        "id": "Yvx8t1SG6zwK"
      }
    },
    {
      "cell_type": "code",
      "source": [
        "# input space separated indices for position of the letter in the word\n",
        "# if the letter does not exist in the word, input x\n",
        "user_play_hangman(model)"
      ],
      "metadata": {
        "colab": {
          "base_uri": "https://localhost:8080/"
        },
        "id": "-9F2pWaq55S_",
        "outputId": "51f64139-1753-43b8-f3e3-e58e3aeb3c18"
      },
      "execution_count": 108,
      "outputs": [
        {
          "output_type": "stream",
          "name": "stdout",
          "text": [
            "input number of letters in your word: 7\n",
            "[27 27 27 27 27 27 27]\n",
            "enter position for a:1 5\n",
            "word: _a___a_\n",
            "enter position for r:x\n",
            "word: _a___a_\n",
            "enter position for m:4\n",
            "word: _a__ma_\n",
            "enter position for n:2 6\n",
            "word: _an_man\n",
            "enter position for t:x\n",
            "word: _an_man\n",
            "enter position for h:0\n",
            "word: han_man\n",
            "enter position for d:x\n",
            "word: han_man\n",
            "enter position for g:3\n",
            "word: hangman\n",
            "incorrect_count: 3\n"
          ]
        }
      ]
    },
    {
      "cell_type": "code",
      "source": [
        "misses_terminator,_,_,_ = cpu_play_hangman(model, encode_word('terminator'),verbose=True, max_len_fine_tune=MAX_LEN)\n",
        "print(\"no of incorrect guesses for the word terminator:\", misses_terminator)"
      ],
      "metadata": {
        "colab": {
          "base_uri": "https://localhost:8080/"
        },
        "id": "TsZbMGnd3b5l",
        "outputId": "9a7aaf1f-8a18-4313-b1a7-237fa59bd4c8"
      },
      "execution_count": 103,
      "outputs": [
        {
          "output_type": "stream",
          "name": "stdout",
          "text": [
            "guess: a\n",
            "word: ______a___\n",
            "\n",
            "guess: e\n",
            "word: _e____a___\n",
            "\n",
            "guess: i\n",
            "word: _e__i_a___\n",
            "\n",
            "guess: l\n",
            "word: _e__i_a___\n",
            "\n",
            "guess: r\n",
            "word: _er_i_a__r\n",
            "\n",
            "guess: t\n",
            "word: ter_i_at_r\n",
            "\n",
            "guess: o\n",
            "word: ter_i_ator\n",
            "\n",
            "guess: m\n",
            "word: termi_ator\n",
            "\n",
            "guess: n\n",
            "word: terminator\n",
            "\n",
            "no of incorrect guesses for the word terminator: 1\n"
          ]
        }
      ]
    }
  ]
}